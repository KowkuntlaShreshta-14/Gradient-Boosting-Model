{
  "nbformat": 4,
  "nbformat_minor": 0,
  "metadata": {
    "colab": {
      "provenance": []
    },
    "kernelspec": {
      "name": "python3",
      "display_name": "Python 3"
    },
    "language_info": {
      "name": "python"
    }
  },
  "cells": [
    {
      "cell_type": "code",
      "execution_count": 7,
      "metadata": {
        "colab": {
          "base_uri": "https://localhost:8080/"
        },
        "id": "Rtk9a23rDDOe",
        "outputId": "d3b8ba92-ef6d-496f-b257-864b76a2b9a7"
      },
      "outputs": [
        {
          "output_type": "stream",
          "name": "stdout",
          "text": [
            "Gradient Boosting Classifier accuracy is:0.9711\n"
          ]
        }
      ],
      "source": [
        "from sklearn.ensemble import GradientBoostingClassifier\n",
        "from sklearn.model_selection import train_test_split\n",
        "from sklearn.metrics import accuracy_score\n",
        "from sklearn.datasets import load_digits\n",
        "SEED=75\n",
        "X,y=load_digits(return_X_y=True)\n",
        "train_x,test_x,train_y,test_y=train_test_split(x,y,test_size=0.5,random_state=SEED)\n",
        "gbc=GradientBoostingClassifier(n_estimators=500,learning_rate=0.12,random_state=200,max_features=15)\n",
        "gbc.fit(train_x,train_y)\n",
        "pred_y=gbc.predict(test_x)\n",
        "acc=accuracy_score(test_y,pred_y)\n",
        "print(\"Gradient Boosting Classifier accuracy is:{:.4f}\".format(acc))"
      ]
    }
  ]
}